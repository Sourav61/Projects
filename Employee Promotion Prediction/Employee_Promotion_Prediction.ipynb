{
  "nbformat": 4,
  "nbformat_minor": 0,
  "metadata": {
    "kernelspec": {
      "display_name": "Python 3",
      "language": "python",
      "name": "python3"
    },
    "language_info": {
      "codemirror_mode": {
        "name": "ipython",
        "version": 3
      },
      "file_extension": ".py",
      "mimetype": "text/x-python",
      "name": "python",
      "nbconvert_exporter": "python",
      "pygments_lexer": "ipython3",
      "version": "3.8.5"
    },
    "colab": {
      "name": "Employee Promotion Prediction.ipynb",
      "provenance": [],
      "collapsed_sections": []
    }
  },
  "cells": [
    {
      "cell_type": "markdown",
      "source": [
        "<a href=\"https://colab.research.google.com/github/Sourav61/Projects/blob/main/Employee%20Promotion%20Prediction/Employee_Promotion_Prediction%20(1).ipynb\" target=\"_parent\"><img src=\"https://colab.research.google.com/assets/colab-badge.svg\" alt=\"Open In Colab\"/></a>"
      ],
      "metadata": {
        "id": "P1Pdrp91ow5f"
      }
    },
    {
      "cell_type": "code",
      "metadata": {
        "id": "tN2yztBM-ODV"
      },
      "source": [
        "# from google.colab import drive\n",
        "# drive.mount('/content/drive')"
      ],
      "execution_count": null,
      "outputs": []
    },
    {
      "cell_type": "code",
      "metadata": {
        "id": "KO8rME_K-IY-"
      },
      "source": [
        "import numpy as np\n",
        "import pandas as pd\n",
        "\n",
        "import seaborn as sns\n",
        "import matplotlib.pyplot as plt\n",
        "import missingno as msno\n",
        "\n",
        "import sklearn\n",
        "from scipy import stats\n",
        "import imblearn\n",
        "\n",
        "import warnings\n",
        "warnings.filterwarnings('ignore')\n",
        "\n",
        "plt.rcParams['figure.figsize'] = (16,5)\n",
        "plt.style.use('fivethirtyeight')"
      ],
      "execution_count": null,
      "outputs": []
    },
    {
      "cell_type": "code",
      "metadata": {
        "id": "NlmLWPrN-IZM"
      },
      "source": [
        "plt.style.available"
      ],
      "execution_count": null,
      "outputs": []
    },
    {
      "cell_type": "code",
      "metadata": {
        "id": "kWj-wdD3-IZN"
      },
      "source": [
        "df = pd.read_csv('train.csv')\n",
        "dft = pd.read_csv('test.csv')"
      ],
      "execution_count": null,
      "outputs": []
    },
    {
      "cell_type": "code",
      "metadata": {
        "id": "w7D_bsSQ-IZO"
      },
      "source": [
        "print(\"The shape of training Data is: \", df.shape)\n",
        "\n",
        "print(\"The shape of training Data is: \", dft.shape)"
      ],
      "execution_count": null,
      "outputs": []
    },
    {
      "cell_type": "code",
      "metadata": {
        "id": "wGEU3GdP-IZO"
      },
      "source": [
        "df.columns"
      ],
      "execution_count": null,
      "outputs": []
    },
    {
      "cell_type": "code",
      "metadata": {
        "id": "wYI6I1JO-IZP"
      },
      "source": [
        "dft.columns"
      ],
      "execution_count": null,
      "outputs": []
    },
    {
      "cell_type": "code",
      "metadata": {
        "id": "ZvwVktHX-IZQ"
      },
      "source": [
        "df.describe().style.background_gradient(cmap='PuBu', low=0, high=0, axis=0, subset=None, text_color_threshold=0.408, vmin=None, vmax=None)"
      ],
      "execution_count": null,
      "outputs": []
    },
    {
      "cell_type": "code",
      "metadata": {
        "id": "TO9pKLEo-IZQ"
      },
      "source": [
        "df.describe(include=\"object\")"
      ],
      "execution_count": null,
      "outputs": []
    },
    {
      "cell_type": "code",
      "metadata": {
        "id": "djiu7OQN-IZR"
      },
      "source": [
        "df.info()"
      ],
      "execution_count": null,
      "outputs": []
    },
    {
      "cell_type": "code",
      "metadata": {
        "id": "pzcBNc9A-IZR"
      },
      "source": [
        "dft.info()"
      ],
      "execution_count": null,
      "outputs": []
    },
    {
      "cell_type": "code",
      "metadata": {
        "id": "t1KDdPdB-IZS"
      },
      "source": [
        "df.head(10)"
      ],
      "execution_count": null,
      "outputs": []
    },
    {
      "cell_type": "code",
      "metadata": {
        "id": "RmF0SO_M-IZT"
      },
      "source": [
        "df.tail(10)"
      ],
      "execution_count": null,
      "outputs": []
    },
    {
      "cell_type": "code",
      "metadata": {
        "id": "jLKPCNFH-IZT"
      },
      "source": [
        "dft.head(10)"
      ],
      "execution_count": null,
      "outputs": []
    },
    {
      "cell_type": "code",
      "metadata": {
        "id": "d1UR7Ddl-IZU"
      },
      "source": [
        "dft.tail(10)"
      ],
      "execution_count": null,
      "outputs": []
    },
    {
      "cell_type": "code",
      "metadata": {
        "id": "Dzzn_JbH-IZU"
      },
      "source": [
        "def inspect_data(data):\n",
        "    return pd.DataFrame({\"Data Type\":data.dtypes,\"No of Levels\":data.apply(lambda x: x.nunique(),axis=0), \"Levels\":data.apply(lambda x: str(x.unique()),axis=0)})\n",
        "inspect_data(df)"
      ],
      "execution_count": null,
      "outputs": []
    },
    {
      "cell_type": "code",
      "metadata": {
        "id": "i8Ol0HUM-IZV"
      },
      "source": [
        "df.dtypes"
      ],
      "execution_count": null,
      "outputs": []
    },
    {
      "cell_type": "code",
      "metadata": {
        "id": "HXFlq5Ip-IZW"
      },
      "source": [
        "df.duplicated().sum() "
      ],
      "execution_count": null,
      "outputs": []
    },
    {
      "cell_type": "code",
      "metadata": {
        "id": "LSRMzBYA-IZW"
      },
      "source": [
        "df.isnull().sum(axis=0)"
      ],
      "execution_count": null,
      "outputs": []
    },
    {
      "cell_type": "code",
      "metadata": {
        "id": "is2C6iBF-IZY"
      },
      "source": [
        "df_total = df.isnull().sum()\n",
        "\n",
        "df_percent = ((df.isnull().sum()/df.shape[0])*100).round(2)\n",
        "\n",
        "dft_total = dft.isnull().sum()\n",
        "\n",
        "dft_percent = ((dft.isnull().sum()/dft.shape[0])*100).round(2)\n",
        "\n",
        "df_missing_data = pd.concat([df_total, df_percent, dft_total, dft_percent],\n",
        "                                axis=1, \n",
        "                                keys=['df_Total', 'df_Percent %','dft_Total', 'dft_Percent %'],\n",
        "                                sort = True)\n",
        "\n",
        "df_missing_data.style.bar(color = ['green'])"
      ],
      "execution_count": null,
      "outputs": []
    },
    {
      "cell_type": "code",
      "metadata": {
        "id": "kax5nH9z-IZa"
      },
      "source": [
        "msno.matrix(df.drop('employee_id', axis='columns').sample(500))\n",
        "plt.show()"
      ],
      "execution_count": null,
      "outputs": []
    },
    {
      "cell_type": "code",
      "metadata": {
        "id": "S-cEuQtz-IZb"
      },
      "source": [
        "msno.bar(df.drop('employee_id', axis='columns'))\n",
        "plt.show()"
      ],
      "execution_count": null,
      "outputs": []
    },
    {
      "cell_type": "code",
      "metadata": {
        "id": "4bZwzrha-IZb"
      },
      "source": [
        "msno.matrix(dft.drop('employee_id', axis='columns').sample(500))\n",
        "plt.show()"
      ],
      "execution_count": null,
      "outputs": []
    },
    {
      "cell_type": "code",
      "metadata": {
        "id": "Tzik58AZ-IZc"
      },
      "source": [
        "msno.bar(dft.drop('employee_id', axis='columns'))\n",
        "plt.show()"
      ],
      "execution_count": null,
      "outputs": []
    },
    {
      "cell_type": "code",
      "metadata": {
        "id": "E2OeLoJZ-IZd"
      },
      "source": [
        "df['education'] = df['education'].fillna(df['education'].mode()[0])\n",
        "df['previous_year_rating'] = df['previous_year_rating'].fillna(df['previous_year_rating'].mode()[0])\n",
        "\n",
        "print(\"Number of Missing Values Left in the Training Data :\", df.isnull().sum().sum())"
      ],
      "execution_count": null,
      "outputs": []
    },
    {
      "cell_type": "code",
      "metadata": {
        "id": "uwfogIcx-IZe"
      },
      "source": [
        "dft['education'] = dft['education'].fillna(dft['education'].mode()[0])\n",
        "dft['previous_year_rating'] = dft['previous_year_rating'].fillna(dft['previous_year_rating'].mode()[0])\n",
        "\n",
        "print(\"Number of Missing Values Left in the Training Data :\", dft.isnull().sum().sum())"
      ],
      "execution_count": null,
      "outputs": []
    },
    {
      "cell_type": "code",
      "metadata": {
        "id": "ex4LANhY-IZf"
      },
      "source": [
        "msno.matrix(df.drop('employee_id', axis='columns').sample(500))\n",
        "plt.show()"
      ],
      "execution_count": null,
      "outputs": []
    },
    {
      "cell_type": "code",
      "metadata": {
        "id": "o6P2a--o-IZf"
      },
      "source": [
        "msno.bar(df.drop('employee_id', axis='columns'))\n",
        "plt.show()"
      ],
      "execution_count": null,
      "outputs": []
    },
    {
      "cell_type": "code",
      "metadata": {
        "id": "ft8o2AAI-IZg"
      },
      "source": [
        "msno.matrix(dft.drop('employee_id', axis='columns').sample(500))\n",
        "plt.show()"
      ],
      "execution_count": null,
      "outputs": []
    },
    {
      "cell_type": "code",
      "metadata": {
        "id": "SSrY1qW1-IZg"
      },
      "source": [
        "msno.bar(dft.drop('employee_id', axis='columns'))\n",
        "plt.show()"
      ],
      "execution_count": null,
      "outputs": []
    },
    {
      "cell_type": "code",
      "metadata": {
        "id": "zBgA9iYs-IZh"
      },
      "source": [
        "plt.rcParams['figure.figsize'] = (15, 5)\n",
        "plt.style.use('fivethirtyeight')\n",
        "\n",
        "plt.subplot(1, 2, 1)\n",
        "sns.countplot(df['is_promoted'],)\n",
        "\n",
        "plt.xlabel('Promoted or Not?', fontsize = 15)\n",
        "\n",
        "plt.subplot(1, 2, 2)\n",
        "df['is_promoted'].value_counts().plot(kind = 'pie', explode = [0, 0.1], autopct = '%.2f%%', startangle = 90,\n",
        "                                       labels = ['1','0'], shadow = True, pctdistance = 0.5)\n",
        "plt.axis('off')\n",
        "\n",
        "plt.suptitle('Target Class Balance', fontsize = 20)\n",
        "plt.legend()\n",
        "plt.show()"
      ],
      "execution_count": null,
      "outputs": []
    },
    {
      "cell_type": "code",
      "metadata": {
        "id": "5QuP07A5-IZh"
      },
      "source": [
        "plt.figure(figsize = (14, 6)) \n",
        "plt.subplot(1,1,1)\n",
        "sns.distplot(df[\"is_promoted\"], bins = 20)\n",
        "plt.show()"
      ],
      "execution_count": null,
      "outputs": []
    },
    {
      "cell_type": "code",
      "metadata": {
        "id": "qMWoLxOaETGR"
      },
      "source": [
        "df1 = df[['no_of_trainings', 'age', 'previous_year_rating', 'length_of_service', 'KPIs_met >80%', 'awards_won?', 'avg_training_score', 'is_promoted']]"
      ],
      "execution_count": null,
      "outputs": []
    },
    {
      "cell_type": "code",
      "metadata": {
        "id": "yWHtGIZiETBx"
      },
      "source": [
        "df1.head(10)"
      ],
      "execution_count": null,
      "outputs": []
    },
    {
      "cell_type": "code",
      "metadata": {
        "id": "rxjFt_04ES_9"
      },
      "source": [
        "df1.tail(10)"
      ],
      "execution_count": null,
      "outputs": []
    },
    {
      "cell_type": "code",
      "metadata": {
        "id": "k3FPCuCbHmnt"
      },
      "source": [
        "sns.pairplot(df1,\n",
        "             x_vars = [ 'is_promoted', 'no_of_trainings', 'length_of_service', 'KPIs_met >80%', 'awards_won?', 'avg_training_score' ],\n",
        "             y_vars = [ 'is_promoted', 'no_of_trainings', 'KPIs_met >80%', 'awards_won?' ],\n",
        "       diag_kind='kde', hue='is_promoted'\n",
        "             )\n",
        "plt.show()"
      ],
      "execution_count": null,
      "outputs": []
    },
    {
      "cell_type": "code",
      "metadata": {
        "id": "NzHfaBQ8Hmla"
      },
      "source": [
        "sns.pairplot(df1,\n",
        "             x_vars = [ 'is_promoted', 'no_of_trainings', 'age', 'previous_year_rating', 'length_of_service', 'KPIs_met >80%', 'awards_won?', 'avg_training_score'],\n",
        "             y_vars = [ 'is_promoted', 'no_of_trainings', 'age', 'previous_year_rating', 'length_of_service', 'KPIs_met >80%', 'awards_won?', 'avg_training_score' ],\n",
        "       diag_kind='kde', hue='is_promoted'\n",
        "             )\n",
        "plt.show()"
      ],
      "execution_count": null,
      "outputs": []
    },
    {
      "cell_type": "code",
      "metadata": {
        "id": "R9-8wsYqHmjB"
      },
      "source": [
        "sns.stripplot(y='length_of_service', x='awards_won?', data=df1)"
      ],
      "execution_count": null,
      "outputs": []
    },
    {
      "cell_type": "code",
      "metadata": {
        "id": "z5KBu6ihHmgf"
      },
      "source": [
        "fig, axarr = plt.subplots(3,2, figsize=(20,20))\n",
        "\n",
        "sns.stripplot(y='length_of_service', x='awards_won?', data=df1, hue=None, ax=axarr[0][0])\n",
        "sns.stripplot(y='length_of_service', x='is_promoted', data=df1, hue=None, ax=axarr[1][1])\n",
        "sns.stripplot(y='previous_year_rating', x='is_promoted', data=df1, hue=None, ax=axarr[1][0])\n",
        "sns.stripplot(y='KPIs_met >80%', x='is_promoted', data=df1, hue=None,  ax=axarr[0][1])\n",
        "sns.stripplot(y='avg_training_score', x='is_promoted', data=df1, hue=None, ax=axarr[2][0])\n",
        "sns.stripplot(y='no_of_trainings', x='is_promoted', data=df1, hue=None, ax=axarr[2][1])\n",
        "plt.show()"
      ],
      "execution_count": null,
      "outputs": []
    },
    {
      "cell_type": "code",
      "metadata": {
        "id": "dR4JfebD-IZi"
      },
      "source": [
        "df.select_dtypes('number').head(50)"
      ],
      "execution_count": null,
      "outputs": []
    },
    {
      "cell_type": "code",
      "metadata": {
        "id": "uSQikigFE71R"
      },
      "source": [
        "plt.rcParams['figure.figsize'] = (15, 5)\n",
        "plt.style.use('fivethirtyeight')\n",
        "\n",
        "plt.subplot(1, 5, 1)\n",
        "sns.boxplot(df['employee_id'], color = 'red')\n",
        "plt.xlabel('employee id', fontsize = 12)\n",
        "plt.ylabel('Range', fontsize = 12)\n",
        "\n",
        "plt.subplot(1, 5, 2)\n",
        "sns.boxplot(df['no_of_trainings'], color = 'red')\n",
        "plt.xlabel('no_of_trainings', fontsize = 12)\n",
        "plt.ylabel('Range', fontsize = 12)\n",
        "\n",
        "plt.subplot(1, 5, 3)\n",
        "sns.boxplot(df['age'], color = 'red')\n",
        "plt.xlabel('age', fontsize = 12)\n",
        "plt.ylabel('Range', fontsize = 12)\n",
        "\n",
        "plt.subplot(1, 5, 4)\n",
        "sns.boxplot(df['previous_year_rating'], color = 'red')\n",
        "plt.xlabel('previous_year_rating', fontsize = 12)\n",
        "plt.ylabel('Range', fontsize = 12)\n",
        "\n",
        "plt.subplot(1, 5, 5)\n",
        "sns.boxplot(df['length_of_service'], color = 'red')\n",
        "plt.xlabel('Length of Service', fontsize = 12)\n",
        "plt.ylabel('Range', fontsize = 12)"
      ],
      "execution_count": null,
      "outputs": []
    },
    {
      "cell_type": "code",
      "metadata": {
        "id": "Old5LO8uF3CZ"
      },
      "source": [
        "plt.rcParams['figure.figsize'] = (15, 5)\n",
        "plt.style.use('fivethirtyeight')\n",
        "\n",
        "plt.subplot(1, 4, 1)\n",
        "sns.boxplot(df['KPIs_met >80%'], color = 'red')\n",
        "plt.xlabel('KPIs_met >80%', fontsize = 12)\n",
        "plt.ylabel('Range', fontsize = 12)\n",
        "\n",
        "plt.subplot(1, 4, 2)\n",
        "sns.boxplot(df['awards_won?'], color = 'red')\n",
        "plt.xlabel('awards_won?', fontsize = 12)\n",
        "plt.ylabel('Range', fontsize = 12)\n",
        "\n",
        "plt.subplot(1, 4, 3)\n",
        "sns.boxplot(df['avg_training_score'], color = 'red')\n",
        "plt.xlabel('Average Training Score', fontsize = 12)\n",
        "plt.ylabel('Range', fontsize = 12)\n",
        "\n",
        "plt.subplot(1, 4, 4)\n",
        "sns.boxplot(df['is_promoted'], color = 'red')\n",
        "plt.xlabel('is_promoted', fontsize = 12)\n",
        "plt.ylabel('Range', fontsize = 12)"
      ],
      "execution_count": null,
      "outputs": []
    },
    {
      "cell_type": "code",
      "metadata": {
        "id": "QTT_D0-G-IZj"
      },
      "source": [
        "df[df['length_of_service'] > 13]"
      ],
      "execution_count": null,
      "outputs": []
    },
    {
      "cell_type": "code",
      "metadata": {
        "id": "aN6tUffo-IZl"
      },
      "source": [
        "plt.rcParams['figure.figsize'] = (16,5)\n",
        "plt.style.use('fivethirtyeight')\n",
        "\n",
        "plt.subplot(1, 3, 1)\n",
        "labels = ['0','1']\n",
        "sizes = df['KPIs_met >80%'].value_counts()\n",
        "colors = plt.cm.Wistia(np.linspace(0, 1, 4))\n",
        "explode = [0, 0]\n",
        "\n",
        "plt.pie(sizes, labels = labels, colors = colors, explode = explode, shadow = True, startangle = 90)\n",
        "plt.title('KPIs Met > 80%', fontsize = 20)\n",
        " \n",
        "plt.subplot(1, 3, 2)\n",
        "labels = ['1', '2', '3', '4', '5']\n",
        "sizes = df['previous_year_rating'].value_counts()\n",
        "colors = plt.cm.Wistia(np.linspace(0, 1, 4))\n",
        "explode = [0, 0, 0, 0, 0.1]\n",
        "\n",
        "plt.pie(sizes, labels = labels, colors = colors, explode = explode, shadow = True, startangle = 90)\n",
        "plt.title('Previous year Ratings', fontsize = 20)\n",
        "\n",
        "plt.subplot(1, 3, 3)\n",
        "labels = ['0', '1']\n",
        "sizes = df['awards_won?'].value_counts()\n",
        "colors = plt.cm.Wistia(np.linspace(0, 1, 4))\n",
        "explode = [0,0.2]\n",
        "\n",
        "plt.pie(sizes, labels = labels, colors = colors, explode = explode, shadow = True, startangle = 90)\n",
        "plt.title('Awards Won?', fontsize = 20)\n",
        "\n",
        "plt.legend()\n",
        "plt.show()"
      ],
      "execution_count": null,
      "outputs": []
    },
    {
      "cell_type": "code",
      "metadata": {
        "id": "0WSLjPo2-IZn"
      },
      "source": [
        "plt.rcParams['figure.figsize'] = (17, 4)\n",
        "sns.countplot(df['no_of_trainings'], palette = 'husl')\n",
        "plt.xlabel(' ', fontsize = 15)\n",
        "plt.title('Distribution of Trainings undertaken by the Employees')\n",
        "plt.show()"
      ],
      "execution_count": null,
      "outputs": []
    },
    {
      "cell_type": "code",
      "metadata": {
        "id": "ehH1DR3v-IZo"
      },
      "source": [
        "plt.rcParams['figure.figsize'] = (17, 4)\n",
        "sns.distplot(df['no_of_trainings'])\n",
        "plt.show()"
      ],
      "execution_count": null,
      "outputs": []
    },
    {
      "cell_type": "code",
      "metadata": {
        "id": "mGLOir6P-IZo"
      },
      "source": [
        "plt.rcParams['figure.figsize'] = (8, 4)\n",
        "plt.hist(df['age'], color='cyan')\n",
        "plt.title('Distribution of Age among the Employees', fontsize = 15, c='m')\n",
        "plt.xlabel('Age of the Employees', color='blue')\n",
        "plt.grid()\n",
        "plt.show()"
      ],
      "execution_count": null,
      "outputs": []
    },
    {
      "cell_type": "code",
      "metadata": {
        "id": "tZxmw7L4nhIJ"
      },
      "source": [
        "plt.rcParams['figure.figsize'] = (12, 6)\n",
        "sns.countplot(y = df['department'], palette = 'gist_stern_r', orient = 'v')\n",
        "plt.xlabel('')\n",
        "plt.ylabel('Department Name', fontsize=15, fontweight=2, color='red')\n",
        "plt.title('Distribution of Employees in Different Departments', fontsize = 20, fontweight = 2, color='green')\n",
        "plt.grid()\n",
        "\n",
        "plt.show()"
      ],
      "execution_count": null,
      "outputs": []
    },
    {
      "cell_type": "code",
      "metadata": {
        "id": "9CM2XZZNn9yn"
      },
      "source": [
        "plt.rcParams['figure.figsize'] = (12,15)\n",
        "plt.style.use('fivethirtyeight')\n",
        "sns.countplot(y = df['region'], palette = 'inferno', orient = 'v')\n",
        "plt.xlabel('')\n",
        "plt.ylabel('Region',color='red', fontweight=2)\n",
        "plt.title('Different Regions', fontsize = 20, color=\"brown\", fontweight=2)\n",
        "plt.xticks(rotation = 45)\n",
        "plt.yticks(rotation = 30)\n",
        "plt.grid()\n",
        "plt.show()"
      ],
      "execution_count": null,
      "outputs": []
    },
    {
      "cell_type": "code",
      "metadata": {
        "id": "SEoF69DJ-68x"
      },
      "source": [
        "plt.rcParams['figure.figsize'] = (16,5)\n",
        "\n",
        "plt.subplot(1, 3, 1)\n",
        "labels = df['education'].value_counts().index\n",
        "print(labels)\n",
        "sizes = df['education'].value_counts()\n",
        "colors = plt.cm.copper(np.linspace(0, 1, 5))\n",
        "explode = [0, 0, 0.1]\n",
        "\n",
        "plt.pie(sizes, labels = labels, colors = colors, explode = explode, shadow = True, startangle = 90)\n",
        "plt.title('Education', fontsize = 20)\n",
        "\n",
        "plt.subplot(1, 3, 2)\n",
        "labels = df['gender'].value_counts().index\n",
        "sizes = df['gender'].value_counts()\n",
        "colors = plt.cm.copper(np.linspace(0, 1, 5))\n",
        "explode = [0, 0.1]\n",
        "\n",
        "plt.pie(sizes, labels = labels, colors = colors, explode = explode, shadow = True, startangle = 90)\n",
        "plt.title('Gender', fontsize = 20)\n",
        "\n",
        "plt.subplot(1, 3, 3)\n",
        "labels = df['recruitment_channel'].value_counts().index\n",
        "sizes = df['recruitment_channel'].value_counts()\n",
        "colors = plt.cm.copper(np.linspace(0, 1, 5))\n",
        "explode = [0, 0, 0.1]\n",
        "\n",
        "plt.pie(sizes, labels = labels, colors = colors, explode = explode, shadow = True, startangle = 90)\n",
        "plt.title('Recruitment Channel', fontsize = 20)\n",
        "\n",
        "plt.show()"
      ],
      "execution_count": null,
      "outputs": []
    },
    {
      "cell_type": "code",
      "metadata": {
        "id": "V8QP7xqCAFz2"
      },
      "source": [
        "df2 = df1[['previous_year_rating', 'is_promoted']]\n",
        "df2.head(10)"
      ],
      "execution_count": null,
      "outputs": []
    },
    {
      "cell_type": "code",
      "metadata": {
        "id": "-o2HBH6sM5Up"
      },
      "source": [
        "df2.tail(10)"
      ],
      "execution_count": null,
      "outputs": []
    },
    {
      "cell_type": "code",
      "metadata": {
        "id": "HabB-enRNNud"
      },
      "source": [
        "sns.pairplot(df2,\n",
        "             x_vars = ['previous_year_rating', 'is_promoted'],\n",
        "             y_vars =  ['previous_year_rating', 'is_promoted'],\n",
        "       diag_kind='kde'\n",
        "             )"
      ],
      "execution_count": null,
      "outputs": []
    },
    {
      "cell_type": "code",
      "metadata": {
        "id": "KVg0i1cLPMJf"
      },
      "source": [
        "dftrain = df2.sample(frac=0.8, random_state=0) \n",
        "dftest = df2.drop(dftrain.index)\n",
        "\n",
        "print(dftrain.head(10))\n",
        "print(dftest.head(10))"
      ],
      "execution_count": null,
      "outputs": []
    },
    {
      "cell_type": "code",
      "metadata": {
        "id": "XcB20aGlQBTV"
      },
      "source": [
        "print(dftrain.shape)\n",
        "print(dftest.shape)"
      ],
      "execution_count": null,
      "outputs": []
    },
    {
      "cell_type": "code",
      "metadata": {
        "id": "MPufyNrkRRwY"
      },
      "source": [
        "dftrain = dftrain.copy()\n",
        "dftest = dftest.copy()\n",
        "\n",
        "print(dftrain.head(10))\n",
        "print(dftest.head(10))"
      ],
      "execution_count": null,
      "outputs": []
    },
    {
      "cell_type": "code",
      "metadata": {
        "id": "bRqNBA-kSWsb"
      },
      "source": [
        "dftr = dftrain.pop('is_promoted')\n",
        "dfte = dftest.pop('is_promoted')\n",
        "\n",
        "print(dftr.head(10))\n",
        "print(dfte.head(10))"
      ],
      "execution_count": null,
      "outputs": []
    },
    {
      "cell_type": "code",
      "metadata": {
        "id": "VEfzKe7H0-Oh"
      },
      "source": [
        "print(dftrain.head())\n",
        "print(dftest.head())"
      ],
      "execution_count": null,
      "outputs": []
    },
    {
      "cell_type": "code",
      "metadata": {
        "id": "dksc_fMRSrZa"
      },
      "source": [
        "import tensorflow as tf \n",
        "from tensorflow import keras\n",
        "\n",
        "model = tf.keras.Sequential([\n",
        "                             tf.keras.layers.Dense(1)\n",
        "\n",
        "])"
      ],
      "execution_count": null,
      "outputs": []
    },
    {
      "cell_type": "code",
      "metadata": {
        "id": "64dCgYHNS7s8"
      },
      "source": [
        "model.compile(\n",
        "    loss = 'mean_absolute_error',\n",
        "    optimizer = tf.keras.optimizers.Adam(0.001),\n",
        "    metrics = ['mae', 'mse']\n",
        ")"
      ],
      "execution_count": null,
      "outputs": []
    },
    {
      "cell_type": "code",
      "metadata": {
        "id": "O0We6aMz0Wjb"
      },
      "source": [
        "numEpochs = 3000\n",
        "history = model.fit(x = dftrain, y = dftr, validation_data = (dftest, dfte), epochs = numEpochs)"
      ],
      "execution_count": null,
      "outputs": []
    },
    {
      "cell_type": "code",
      "metadata": {
        "id": "rsilz0nA1GgP"
      },
      "source": [
        "print(history)"
      ],
      "execution_count": null,
      "outputs": []
    },
    {
      "cell_type": "code",
      "metadata": {
        "id": "ZZhzzwNQ1_6x"
      },
      "source": [
        "model.summary()"
      ],
      "execution_count": null,
      "outputs": []
    },
    {
      "cell_type": "code",
      "metadata": {
        "id": "D9vvmwV41-HT"
      },
      "source": [
        "def curvePlots(tempString):\n",
        "  plt.plot(history.history[tempString])\n",
        "  plt.plot(history.history[f'val_{tempString}'])\n",
        "  plt.xlabel('NumEpochs')\n",
        "  plt.ylabel(tempString)\n",
        "  plt.legend([tempString, f'val_{tempString}'])\n",
        "  plt.show()\n",
        "\n",
        "\n",
        "curvePlots('mse')\n",
        "curvePlots('mae')\n",
        "curvePlots('loss')"
      ],
      "execution_count": null,
      "outputs": []
    },
    {
      "cell_type": "code",
      "metadata": {
        "id": "7EK5rfYG1_yz"
      },
      "source": [
        "model.predict([3])"
      ],
      "execution_count": null,
      "outputs": []
    },
    {
      "cell_type": "code",
      "metadata": {
        "id": "ti535ngk1-3n"
      },
      "source": [
        "print(f'Prediction for employee rating 3: {model.predict([3])}')\n",
        "\n",
        "tempListforPreds = [1,2,3,4,5]\n",
        "print(f'''\n",
        "\n",
        "input List = {tempListforPreds}\n",
        "\n",
        "\n",
        "List of Predictions:\n",
        "{model.predict(tempListforPreds)}\n",
        "\n",
        "List of Predictions (flattened out):\n",
        "{model.predict(tempListforPreds).flatten()}\n",
        "''')"
      ],
      "execution_count": null,
      "outputs": []
    },
    {
      "cell_type": "code",
      "metadata": {
        "id": "cx1Wy0T51_nG"
      },
      "source": [
        "print(dftest)"
      ],
      "execution_count": null,
      "outputs": []
    },
    {
      "cell_type": "code",
      "metadata": {
        "id": "rSMqxWsp2kNv"
      },
      "source": [
        "pred = model.predict(dftest).flatten()"
      ],
      "execution_count": null,
      "outputs": []
    },
    {
      "cell_type": "code",
      "metadata": {
        "id": "TDNw9bsi2kLr"
      },
      "source": [
        "print(len(pred))\n",
        "print(pred)"
      ],
      "execution_count": null,
      "outputs": []
    },
    {
      "cell_type": "code",
      "metadata": {
        "id": "UYBzVG4J2kI6"
      },
      "source": [
        "def predPlot(labels, predictions):\n",
        "  plt.scatter(labels, predictions)\n",
        "  plt.ylabel('Predictions')\n",
        "  plt.xlabel('True Value or Labels')\n",
        "  plt.axis('equal')\n",
        "  plt.axis('square')\n",
        "  plt.xlim([0, plt.xlim()[1]])\n",
        "  plt.ylim([0, plt.ylim()[1]])\n",
        "  plt.show()\n",
        "\n",
        "predPlot(dfte, pred)"
      ],
      "execution_count": null,
      "outputs": []
    },
    {
      "cell_type": "code",
      "metadata": {
        "id": "hYGWQr2yXM3y"
      },
      "source": [
        ""
      ],
      "execution_count": null,
      "outputs": []
    },
    {
      "cell_type": "code",
      "metadata": {
        "id": "JBRr3x9R2kG1"
      },
      "source": [
        "def errorPlot(preds, labels, counts):\n",
        "  errors = preds - labels\n",
        "  plt.hist(errors, counts)\n",
        "  plt.xlabel('Error')\n",
        "  plt.ylabel('Counts')\n",
        "  plt.show()\n",
        "\n",
        "errorPlot(pred, dfte, numEpochs)"
      ],
      "execution_count": null,
      "outputs": []
    },
    {
      "cell_type": "code",
      "metadata": {
        "id": "UcZpdlM22kEc"
      },
      "source": [
        ""
      ],
      "execution_count": null,
      "outputs": []
    }
  ]
}