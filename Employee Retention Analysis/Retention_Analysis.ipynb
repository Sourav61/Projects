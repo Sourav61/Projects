{
  "nbformat": 4,
  "nbformat_minor": 0,
  "metadata": {
    "colab": {
      "name": "Task-9.ipynb",
      "provenance": []
    },
    "kernelspec": {
      "name": "python3",
      "display_name": "Python 3"
    },
    "language_info": {
      "name": "python"
    }
  },
  "cells": [
    {
      "cell_type": "markdown",
      "source": [
        "<a href=\"https://colab.research.google.com/github/Sourav61/Projects/blob/main/Employee%20Retention%20Analysis/Retention_Analysis.ipynb\" target=\"_parent\"><img src=\"https://colab.research.google.com/assets/colab-badge.svg\" alt=\"Open In Colab\"/></a>"
      ],
      "metadata": {
        "id": "UzTTRR6hpPil"
      }
    },
    {
      "cell_type": "code",
      "metadata": {
        "id": "JJbmji0Seh4N"
      },
      "source": [
        "from google.colab import drive\n",
        "drive.mount('/content/drive')"
      ],
      "execution_count": null,
      "outputs": []
    },
    {
      "cell_type": "markdown",
      "metadata": {
        "id": "wnIK7C-Ut-87"
      },
      "source": [
        "Author: <a href = \"https://github.com/Sourav61\">Sourav Pahwa</a>\n",
        "<br>ID: GO_STP_13420"
      ]
    },
    {
      "cell_type": "markdown",
      "metadata": {
        "id": "rPC_LHk7uVGr"
      },
      "source": [
        "<b>Q) Predict retention of an employee within an organization such that whether the employee will leave the company or continue with it. An organization is only as good as its employees, and these people are the true source of its competitive advantage. Dataset is downloaded from Kaggle. Link: <a href=\"https://www.kaggle.com/giripujar/hr-analytics\">https://www.kaggle.com/giripujar/hr-analytics\")</a></b>\n",
        "\n",
        "First do data exploration and visualization, after this create a logistic regression model to predict Employee Attrition Using Machine Learning & Python."
      ]
    },
    {
      "cell_type": "code",
      "metadata": {
        "id": "SEVNYUYgt-Zh"
      },
      "source": [
        "import numpy as np\n",
        "import pandas as pd\n",
        "import seaborn as sns\n",
        "import matplotlib.pyplot as plt\n",
        "import missingno as msno\n",
        "import warnings\n",
        "warnings.filterwarnings('ignore')"
      ],
      "execution_count": null,
      "outputs": []
    },
    {
      "cell_type": "code",
      "metadata": {
        "id": "MvGbV1l51i3Z"
      },
      "source": [
        "df = pd.read_csv(\"HR_comma_sep.csv\")"
      ],
      "execution_count": null,
      "outputs": []
    },
    {
      "cell_type": "code",
      "metadata": {
        "id": "AxxeF5CQXWPc"
      },
      "source": [
        "df.head(10)"
      ],
      "execution_count": null,
      "outputs": []
    },
    {
      "cell_type": "code",
      "metadata": {
        "id": "NzXQ1ygxXWMS"
      },
      "source": [
        "df.tail(10)"
      ],
      "execution_count": null,
      "outputs": []
    },
    {
      "cell_type": "code",
      "metadata": {
        "id": "EpPRcaXnXWJK"
      },
      "source": [
        "df.info()"
      ],
      "execution_count": null,
      "outputs": []
    },
    {
      "cell_type": "code",
      "metadata": {
        "id": "F1gj3n6JXWGF"
      },
      "source": [
        "df.describe(include=\"all\")"
      ],
      "execution_count": null,
      "outputs": []
    },
    {
      "cell_type": "code",
      "metadata": {
        "id": "U4tifmF5XWCf"
      },
      "source": [
        "df.kurt()"
      ],
      "execution_count": null,
      "outputs": []
    },
    {
      "cell_type": "code",
      "metadata": {
        "id": "VNfkET2dXV_Z"
      },
      "source": [
        "df.skew()"
      ],
      "execution_count": null,
      "outputs": []
    },
    {
      "cell_type": "code",
      "metadata": {
        "id": "xSLEEwuHXV7s"
      },
      "source": [
        "df.keys()"
      ],
      "execution_count": null,
      "outputs": []
    },
    {
      "cell_type": "code",
      "metadata": {
        "id": "CR0rq9gGXV4h"
      },
      "source": [
        "df.columns"
      ],
      "execution_count": null,
      "outputs": []
    },
    {
      "cell_type": "code",
      "metadata": {
        "id": "Z4EKWnJCX7TJ"
      },
      "source": [
        "df.axes"
      ],
      "execution_count": null,
      "outputs": []
    },
    {
      "cell_type": "code",
      "metadata": {
        "id": "-NLnUnxtYA9X"
      },
      "source": [
        "df.items()"
      ],
      "execution_count": null,
      "outputs": []
    },
    {
      "cell_type": "code",
      "metadata": {
        "id": "KzgWwfvQYEYJ"
      },
      "source": [
        "df.boxplot(rot=45)\n",
        "plt.show()"
      ],
      "execution_count": null,
      "outputs": []
    },
    {
      "cell_type": "code",
      "metadata": {
        "id": "p4ARlV2gYHPo"
      },
      "source": [
        "df.hist(figsize=(15,20),xrot=45,yrot=45)\n",
        "plt.show()"
      ],
      "execution_count": null,
      "outputs": []
    },
    {
      "cell_type": "code",
      "metadata": {
        "id": "zej5O8ceYJUN"
      },
      "source": [
        "df.dtypes"
      ],
      "execution_count": null,
      "outputs": []
    },
    {
      "cell_type": "code",
      "metadata": {
        "id": "u7xzuc_bZZ5h"
      },
      "source": [
        "df.duplicated().any()"
      ],
      "execution_count": null,
      "outputs": []
    },
    {
      "cell_type": "code",
      "metadata": {
        "id": "tiiFFv8xZgCS"
      },
      "source": [
        "df.duplicated().sum() "
      ],
      "execution_count": null,
      "outputs": []
    },
    {
      "cell_type": "code",
      "metadata": {
        "id": "id1rZt7xaQsC"
      },
      "source": [
        "df.isna()"
      ],
      "execution_count": null,
      "outputs": []
    },
    {
      "cell_type": "code",
      "metadata": {
        "id": "ZqfvaCtzaQxB"
      },
      "source": [
        "df.isnull().any()"
      ],
      "execution_count": null,
      "outputs": []
    },
    {
      "cell_type": "code",
      "metadata": {
        "id": "XLgNJSvCaQvB"
      },
      "source": [
        "df.isnull().sum()"
      ],
      "execution_count": null,
      "outputs": []
    },
    {
      "cell_type": "code",
      "metadata": {
        "id": "l8g44XIOaQpY"
      },
      "source": [
        "msno.bar(df.sample(14999),color=\"cyan\")\n",
        "plt.show()"
      ],
      "execution_count": null,
      "outputs": []
    },
    {
      "cell_type": "code",
      "metadata": {
        "id": "pdKA131lC7g8"
      },
      "source": [
        "msno.matrix(df.sample(14999),color=(1, 0, 1))\n",
        "plt.show()"
      ],
      "execution_count": null,
      "outputs": []
    },
    {
      "cell_type": "code",
      "metadata": {
        "id": "Uv8FRNNBaIvJ"
      },
      "source": [
        "df.corr()"
      ],
      "execution_count": null,
      "outputs": []
    },
    {
      "cell_type": "code",
      "metadata": {
        "id": "LoQr1NYJBVP9"
      },
      "source": [
        "fig = plt.figure(figsize = (12,10))\n",
        "sns.heatmap(df.corr(), cmap='inferno', annot = True) \n",
        "plt.show()"
      ],
      "execution_count": null,
      "outputs": []
    },
    {
      "cell_type": "code",
      "metadata": {
        "id": "KLzeWvMmBdED"
      },
      "source": [
        "corr = df.corr()\n",
        "sns.heatmap((corr),\n",
        "xticklabels=corr.columns.values,\n",
        "yticklabels=corr.columns.values,cmap='cubehelix_r',annot=False,fmt=\".2g\")\n",
        "plt.title('Heatmap of Correlation Matrix', fontsize=20)\n",
        "corr"
      ],
      "execution_count": null,
      "outputs": []
    },
    {
      "cell_type": "code",
      "metadata": {
        "id": "Jm6aRkBryWE8"
      },
      "source": [
        "plt.figure(figsize=(14,14))\n",
        "sns.heatmap(df.cov(), annot=True, fmt =\".2f\",square=True,cmap='rainbow')\n",
        "plt.title(\"Covariation\",fontsize = 15)\n",
        "plt.show()"
      ],
      "execution_count": null,
      "outputs": []
    },
    {
      "cell_type": "code",
      "metadata": {
        "id": "o8VcYpBcCkbu"
      },
      "source": [
        "satisfaction_mean = df['satisfaction_level'].mean()\n",
        "left_mean = df[df['left']==1]['satisfaction_level'].mean()\n",
        "print( f'The mean for the employee population is: {satisfaction_mean}')\n",
        "print( f'The mean for the employees that had left is: {left_mean}')"
      ],
      "execution_count": null,
      "outputs": []
    },
    {
      "cell_type": "code",
      "metadata": {
        "id": "P5uoP84dE1sx"
      },
      "source": [
        "f, axes = plt.subplots(ncols=3, figsize=(15, 6))\n",
        "sns.distplot(df.satisfaction_level, kde=False, color=\"m\", ax=axes[0]).set_title('Employee Satisfaction Measure',fontsize=14)\n",
        "axes[0].set_ylabel('Employee Count',fontsize=10)\n",
        "sns.distplot(df.last_evaluation, kde=False, color=\"g\", ax=axes[1]).set_title('Employee Evaluation Measure',fontsize=14)\n",
        "axes[1].set_ylabel('Employee Count',fontsize=10)\n",
        "sns.distplot(df.average_montly_hours, kde=False, color=\"b\", ax=axes[2]).set_title('Employee Average Monthly Hours Measure',fontsize=14)\n",
        "axes[2].set_ylabel('Employee Count',fontsize=10)\n",
        "plt.show()"
      ],
      "execution_count": null,
      "outputs": []
    },
    {
      "cell_type": "code",
      "metadata": {
        "id": "GbAGFKnmOj9D"
      },
      "source": [
        "f, ax = plt.subplots(figsize=(15, 4))\n",
        "sns.countplot(y=\"salary\", hue='left', data=df).set_title('Employee Salary Turnover Distribution');"
      ],
      "execution_count": null,
      "outputs": []
    },
    {
      "cell_type": "code",
      "metadata": {
        "id": "02ZdJD4-o0RL"
      },
      "source": [
        "color_types = ['#78C850','#F08030','#6890F0','#A8B820','#A8A878','#A040A0','#F8D030',\n",
        "'#E0C068','#EE99AC','#C03028','#F85888','#B8A038','#705898','#98D8D8','#7038F8']\n",
        "sns.countplot(x='Department', data=df, palette=color_types).set_title('Employee Department Distribution');"
      ],
      "execution_count": null,
      "outputs": []
    },
    {
      "cell_type": "code",
      "metadata": {
        "id": "HawyybKwpPh5"
      },
      "source": [
        "data = df[['satisfaction_level','average_montly_hours','promotion_last_5years','salary']]\n",
        "data.head(10)"
      ],
      "execution_count": null,
      "outputs": []
    },
    {
      "cell_type": "code",
      "metadata": {
        "id": "vMcdhDOFwH5Y"
      },
      "source": [
        "df1 = pd.get_dummies(data['salary'])\n",
        "df1.head(10)"
      ],
      "execution_count": null,
      "outputs": []
    },
    {
      "cell_type": "code",
      "metadata": {
        "id": "tGOPJ8HxwaKK"
      },
      "source": [
        "df1.tail(10)"
      ],
      "execution_count": null,
      "outputs": []
    },
    {
      "cell_type": "code",
      "metadata": {
        "id": "vVFrf6h9w_Fe"
      },
      "source": [
        "merge = pd.concat([data,df1],axis='columns')\n",
        "merge"
      ],
      "execution_count": null,
      "outputs": []
    },
    {
      "cell_type": "code",
      "metadata": {
        "id": "_orFtJA7xTWZ"
      },
      "source": [
        "merge.drop(['salary','high'], axis=1, inplace=True)\n",
        "merge"
      ],
      "execution_count": null,
      "outputs": []
    },
    {
      "cell_type": "code",
      "metadata": {
        "id": "iW6XZ_rYxmLd"
      },
      "source": [
        "x = merge.copy()\n",
        "x"
      ],
      "execution_count": null,
      "outputs": []
    },
    {
      "cell_type": "code",
      "metadata": {
        "id": "NcwG5F_tyqCg"
      },
      "source": [
        "y = df['left']\n",
        "y"
      ],
      "execution_count": null,
      "outputs": []
    },
    {
      "cell_type": "code",
      "metadata": {
        "id": "Dt2cUibRyumj"
      },
      "source": [
        "from sklearn.model_selection import train_test_split\n",
        "\n",
        "xtrain, xtest, ytrain, ytest = train_test_split(x, y, test_size=.25, random_state=5)\n",
        "print(xtrain.shape) \n",
        "print(xtest.shape)\n",
        "print(ytrain.shape)\n",
        "ytest.shape"
      ],
      "execution_count": null,
      "outputs": []
    },
    {
      "cell_type": "code",
      "metadata": {
        "id": "L4hGpQ8hzMAW"
      },
      "source": [
        "from sklearn.linear_model import LogisticRegression\n",
        "lm = LogisticRegression(solver='newton-cg')\n",
        "lm.fit(xtrain,ytrain)"
      ],
      "execution_count": null,
      "outputs": []
    },
    {
      "cell_type": "code",
      "metadata": {
        "id": "HurqofbMzoYH"
      },
      "source": [
        "y_pred = lm.predict(xtest)\n",
        "y_pred"
      ],
      "execution_count": null,
      "outputs": []
    },
    {
      "cell_type": "code",
      "metadata": {
        "id": "I4R4PJKJz4gD"
      },
      "source": [
        "lm.score(xtest,ytest)"
      ],
      "execution_count": null,
      "outputs": []
    },
    {
      "cell_type": "code",
      "metadata": {
        "id": "tE_AvCpyz-Lk"
      },
      "source": [
        "from sklearn.metrics import accuracy_score, confusion_matrix,plot_confusion_matrix,mean_squared_error, mean_absolute_error ,r2_score,  classification_report"
      ],
      "execution_count": null,
      "outputs": []
    },
    {
      "cell_type": "code",
      "metadata": {
        "id": "E_Hkl-9d0GuZ"
      },
      "source": [
        "accuracy_score(ytest,y_pred)"
      ],
      "execution_count": null,
      "outputs": []
    },
    {
      "cell_type": "code",
      "metadata": {
        "id": "9czGFwU90KkB"
      },
      "source": [
        "confusion_matrix(ytest,y_pred)"
      ],
      "execution_count": null,
      "outputs": []
    },
    {
      "cell_type": "code",
      "metadata": {
        "id": "343G99tn0OLS"
      },
      "source": [
        "plot_confusion_matrix(lm, xtest, ytest,cmap=plt.cm.cubehelix_r)\n",
        "plt.show()"
      ],
      "execution_count": null,
      "outputs": []
    },
    {
      "cell_type": "code",
      "metadata": {
        "id": "pV75BcWM0V6H"
      },
      "source": [
        "print(\"The Mean Squared Error is: \", end=\" \")\n",
        "mse = mean_squared_error(y_pred,ytest)\n",
        "print(mse)\n",
        "print(\"The Mean Absolute Error is: \", end=\" \")\n",
        "mae = mean_absolute_error(y_pred, ytest)\n",
        "print(mae)"
      ],
      "execution_count": null,
      "outputs": []
    },
    {
      "cell_type": "code",
      "metadata": {
        "id": "Tzbh_Q2n1RZQ"
      },
      "source": [
        "print('The R2 Score is: %0.2f ' % r2_score(ytest, y_pred))"
      ],
      "execution_count": null,
      "outputs": []
    },
    {
      "cell_type": "code",
      "metadata": {
        "id": "9RP7njxI2Ar6"
      },
      "source": [
        "print(classification_report(ytest,y_pred))"
      ],
      "execution_count": null,
      "outputs": []
    },
    {
      "cell_type": "code",
      "metadata": {
        "id": "Zh81jOGv1bhh"
      },
      "source": [
        "plt.scatter(ytest, y_pred,c='m', marker=\"^\")\n",
        "plt.plot(ytest, lm.predict(xtest))\n",
        "plt.show()"
      ],
      "execution_count": null,
      "outputs": []
    }
  ]
}
